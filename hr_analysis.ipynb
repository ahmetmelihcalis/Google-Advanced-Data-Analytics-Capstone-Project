{
 "cells": [
  {
   "cell_type": "markdown",
   "id": "174c85c6",
   "metadata": {},
   "source": [
    "# Salifort Motors: Predicting Employee Attrition\n",
    "### **Project:** Capstone Project for the Google Advanced Data Analytics Certificate"
   ]
  },
  {
   "cell_type": "markdown",
   "id": "4bcb71f9",
   "metadata": {},
   "source": [
    "## 1. Plan\n",
    "\n",
    "### Business Understanding and Project Goal\n",
    "\n",
    "This project serves as the capstone for the Google Advanced Data Analytics Certificate. It applies the skills learned throughout the course to a real-world business scenario at Salifort Motors, a fictional alternative energy vehicle manufacturer.\n",
    "\n",
    "Salifort Motors faces a significant challenge with employee retention. The senior leadership team has tasked the data analytics department with analyzing recent employee data to understand the key drivers of attrition.\n",
    "\n",
    "The primary goal of this project is to construct a predictive model that can identify employees who are likely to leave the company. This model will provide the Human Resources (HR) department with actionable insights to develop targeted retention strategies, ultimately reducing turnover costs and preserving valuable institutional knowledge.\n",
    "\n",
    "This notebook documents the entire process, following the **PACE (Plan, Analyze, Construct, Execute)** framework, a key methodology taught in the Google program."
   ]
  },
  {
   "cell_type": "markdown",
   "id": "c25f95f9",
   "metadata": {},
   "source": [
    "## 2. Analyze\n",
    "In this phase, we will perform a thorough Exploratory Data Analysis (EDA) to understand the dataset, identify key patterns, and formulate hypotheses about the drivers of employee attrition.\n",
    "\n",
    "### 2.1. Data Loading and Initial Inspection\n",
    "The first step is to load the dataset and perform an initial inspection to understand its structure, data types, and identify any immediate data quality issues such as missing values or duplicates."
   ]
  },
  {
   "cell_type": "code",
   "execution_count": null,
   "id": "9b076de3",
   "metadata": {},
   "outputs": [],
   "source": [
    "# Importing necessary libraries and modeling tools\n",
    "import pandas as pd\n",
    "import numpy as np\n",
    "import matplotlib.pyplot as plt\n",
    "import seaborn as sns\n",
    "from sklearn.model_selection import train_test_split\n",
    "from sklearn.ensemble import RandomForestClassifier\n",
    "from sklearn.metrics import classification_report, confusion_matrix, accuracy_score"
   ]
  },
  {
   "cell_type": "code",
   "execution_count": null,
   "id": "713af97d",
   "metadata": {},
   "outputs": [],
   "source": [
    "# Load the dataset\n",
    "df = pd.read_csv('HR_comma_sep.csv')"
   ]
  },
  {
   "cell_type": "code",
   "execution_count": null,
   "id": "131db2b1",
   "metadata": {},
   "outputs": [],
   "source": [
    "# Display the first ten rows to understand the features\n",
    "df.head(10)"
   ]
  },
  {
   "cell_type": "code",
   "execution_count": null,
   "id": "0c8bb7aa",
   "metadata": {},
   "outputs": [],
   "source": [
    "# Get a summary of the data structure and types\n",
    "df.info()"
   ]
  },
  {
   "cell_type": "code",
   "execution_count": null,
   "id": "4268f52b",
   "metadata": {},
   "outputs": [],
   "source": [
    "# Get descriptive statistics about the data\n",
    "df.describe()"
   ]
  },
  {
   "cell_type": "code",
   "execution_count": null,
   "id": "6aa284fa",
   "metadata": {},
   "outputs": [],
   "source": [
    "# Display all column names\n",
    "df.columns"
   ]
  },
  {
   "cell_type": "code",
   "execution_count": null,
   "id": "d790e13b",
   "metadata": {},
   "outputs": [],
   "source": [
    "# Rename columns as needed\n",
    "df = df.rename(columns={'Work_accident': 'work_accident',\n",
    "                          'average_montly_hours': 'average_monthly_hours',\n",
    "                          'time_spend_company': 'tenure',\n",
    "                          'Department': 'department'})\n",
    "\n",
    "# Display all column names after the update\n",
    "df.columns"
   ]
  },
  {
   "cell_type": "code",
   "execution_count": null,
   "id": "cd16c739",
   "metadata": {},
   "outputs": [],
   "source": [
    "# Check for missing values\n",
    "print(\"Missing Values Check:\")\n",
    "print(df.isnull().sum())"
   ]
  },
  {
   "cell_type": "code",
   "execution_count": null,
   "id": "8f6110e7",
   "metadata": {},
   "outputs": [],
   "source": [
    "# Check for and handle duplicate records\n",
    "print(f\"Initial number of duplicate rows: {df.duplicated().sum()}\")\n",
    "df = df.drop_duplicates(keep='first')\n",
    "# Display the first ten rows of the new DataFrame if needed\n",
    "df.head(10)"
   ]
  },
  {
   "cell_type": "code",
   "execution_count": null,
   "id": "0a9a1ee9",
   "metadata": {},
   "outputs": [],
   "source": [
    "# Show the number of rows and columns in the new DataFrame before moving on to visualization\n",
    "print(f\"Data shape after removing duplicates: {df.shape}\")"
   ]
  },
  {
   "cell_type": "markdown",
   "id": "8f85e382",
   "metadata": {},
   "source": [
    "### 2.2. Exploratory Data Analysis (EDA)\n",
    "With a clean dataset, we can now explore the relationships between different variables and employee attrition. We will visualize these relationships to draw initial conclusions.\n",
    "\n",
    "Hypothesis 1: Employee satisfaction is a key factor in attrition."
   ]
  },
  {
   "cell_type": "code",
   "execution_count": null,
   "id": "d6c5dc70",
   "metadata": {},
   "outputs": [],
   "source": [
    "# Analyze the distribution of satisfaction_level for both groups\n",
    "plt.figure(figsize=(10, 6))\n",
    "sns.histplot(data=df, x='satisfaction_level', hue='left', multiple='dodge', shrink=0.8)\n",
    "plt.title('Distribution of Satisfaction Level by Employee Status')\n",
    "plt.xlabel('Satisfaction Level')\n",
    "plt.ylabel('Number of Employees')\n",
    "plt.legend(title='Status', labels=['Left', 'Stayed'])\n",
    "plt.show()"
   ]
  },
  {
   "cell_type": "markdown",
   "id": "2a82c54c",
   "metadata": {},
   "source": [
    "Observation: The histogram confirms that a significant number of employees who left had a very low satisfaction level (below 0.5). This supports our hypothesis that dissatisfaction is a major driver of attrition.\n",
    "\n",
    "Hypothesis 2: Workload, measured by average_montly_hours and number_project, impacts an employee's decision to leave."
   ]
  },
  {
   "cell_type": "code",
   "execution_count": null,
   "id": "28577807",
   "metadata": {},
   "outputs": [],
   "source": [
    "# Create a figure with two subplots\n",
    "fig, axes = plt.subplots(1, 2, figsize=(16, 6))\n",
    "\n",
    "# Plot for average_monthly_hours (typo düzeltildi)\n",
    "sns.boxplot(ax=axes[0], data=df, x='left', y='average_monthly_hours')\n",
    "axes[0].set_title('Average Monthly Hours vs. Attrition')\n",
    "axes[0].set_xticklabels(['Stayed', 'Left'])\n",
    "\n",
    "# Plot for number_project\n",
    "sns.countplot(ax=axes[1], data=df, x='number_project', hue='left')\n",
    "axes[1].set_title('Number of Projects vs. Attrition')\n",
    "\n",
    "plt.tight_layout()\n",
    "plt.show()"
   ]
  }
 ],
 "metadata": {
  "kernelspec": {
   "display_name": "Python 3",
   "language": "python",
   "name": "python3"
  },
  "language_info": {
   "codemirror_mode": {
    "name": "ipython",
    "version": 3
   },
   "file_extension": ".py",
   "mimetype": "text/x-python",
   "name": "python",
   "nbconvert_exporter": "python",
   "pygments_lexer": "ipython3",
   "version": "3.12.6"
  }
 },
 "nbformat": 4,
 "nbformat_minor": 5
}
